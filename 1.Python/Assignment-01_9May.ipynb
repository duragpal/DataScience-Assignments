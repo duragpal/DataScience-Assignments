{
 "cells": [
  {
   "cell_type": "markdown",
   "id": "521f69c1",
   "metadata": {},
   "source": [
    "Q.1 : Create a variable containing following datatype."
   ]
  },
  {
   "cell_type": "code",
   "execution_count": 5,
   "id": "8faaf491",
   "metadata": {},
   "outputs": [],
   "source": [
    "string_data = \"hello\"\n",
    "list_data=[1,2,3,4,\"abc\"]\n",
    "float_num = 3.155\n",
    "tuple_data=(1,2,3,4,5)"
   ]
  },
  {
   "cell_type": "markdown",
   "id": "40b88ca9",
   "metadata": {},
   "source": [
    "Q.2 : What is the datatype of the above variable?"
   ]
  },
  {
   "cell_type": "code",
   "execution_count": 13,
   "id": "6671dcbc",
   "metadata": {},
   "outputs": [
    {
     "data": {
      "text/plain": [
       "str"
      ]
     },
     "execution_count": 13,
     "metadata": {},
     "output_type": "execute_result"
    }
   ],
   "source": [
    "var1=\"\"  #type =  string\n",
    "var2='[DS,ML,Python]'  #type = String\n",
    "var3=['DS','ML','Python']   #type = List\n",
    "var4=1.   #type=float\n",
    "type(var1)"
   ]
  },
  {
   "cell_type": "markdown",
   "id": "15c47852",
   "metadata": {},
   "source": [
    "Q.3: Explain the use of following operators.\n",
    "\n",
    "i) / \n",
    "It is a divide operator that gives the quotient after dividing the operands.\n",
    "\n",
    "ii)%\n",
    "It is the modulus operator that gives the remainder after dividing the operands.\n",
    "\n",
    "iii)// \n",
    "It is the Floor division operator that gives the quotient. It gives the floor value of the quotient .\n",
    "for eg: 5//2 = 2\n",
    "\n",
    "iv) **\n",
    "It is the exponentiation operator that gives exponent of an operand raised to the operand.\n",
    "\n",
    "Examples are given below:"
   ]
  },
  {
   "cell_type": "code",
   "execution_count": 19,
   "id": "0efee819",
   "metadata": {},
   "outputs": [
    {
     "name": "stdout",
     "output_type": "stream",
     "text": [
      "2.5\n",
      "1\n",
      "2\n",
      "25\n"
     ]
    }
   ],
   "source": [
    "print(5/2)\n",
    "print(5%2)\n",
    "print(5//2)\n",
    "print(5**2)"
   ]
  },
  {
   "cell_type": "markdown",
   "id": "eb4e8dde",
   "metadata": {},
   "source": [
    "Q.4: Create list of length 10 and enter multiple types of data. Using for loop print the elements and its type.."
   ]
  },
  {
   "cell_type": "code",
   "execution_count": 24,
   "id": "4520f43c",
   "metadata": {},
   "outputs": [
    {
     "name": "stdout",
     "output_type": "stream",
     "text": [
      "1  Datatype:   <class 'int'>\n",
      "2  Datatype:   <class 'int'>\n",
      "3  Datatype:   <class 'int'>\n",
      "abc  Datatype:   <class 'str'>\n",
      "king  Datatype:   <class 'str'>\n",
      "0.5  Datatype:   <class 'float'>\n",
      "0.999  Datatype:   <class 'float'>\n",
      "True  Datatype:   <class 'bool'>\n",
      "8  Datatype:   <class 'int'>\n",
      "0  Datatype:   <class 'int'>\n"
     ]
    }
   ],
   "source": [
    "list1=[1,2,3,\"abc\",\"king\",0.5,0.999,True,8,0]\n",
    "for i in list1:\n",
    "    print(i, \" Datatype:  \", type(i))"
   ]
  },
  {
   "cell_type": "markdown",
   "id": "0a38096b",
   "metadata": {},
   "source": [
    "Q.5: Using while loop, verify if number A is  purely divisible by number B and if so then how many times is it divisible.."
   ]
  },
  {
   "cell_type": "code",
   "execution_count": 12,
   "id": "e945d898",
   "metadata": {},
   "outputs": [
    {
     "name": "stdout",
     "output_type": "stream",
     "text": [
      "purely Divisible 1 Times\n"
     ]
    }
   ],
   "source": [
    "a=10\n",
    "b=2\n",
    "count=0\n",
    "while(a%b==0):\n",
    "    a=a//b\n",
    "    count+=1\n",
    "if(count==0):\n",
    "    print(\"Not purely divisible..\")\n",
    "else:\n",
    "    print(\"purely Divisible\" , count, \"Times\")\n"
   ]
  },
  {
   "cell_type": "markdown",
   "id": "f5bb954f",
   "metadata": {},
   "source": [
    "Q.6:  Create a list containing 25 int dataype. Using for loop and if else, print if the number is divisible by 3 or not."
   ]
  },
  {
   "cell_type": "code",
   "execution_count": 1,
   "id": "9c08dbb9",
   "metadata": {},
   "outputs": [
    {
     "name": "stdout",
     "output_type": "stream",
     "text": [
      "1 is not divisible by 3.\n",
      "2 is not divisible by 3.\n",
      "3 is divisible by 3.\n",
      "4 is not divisible by 3.\n",
      "5 is not divisible by 3.\n",
      "6 is divisible by 3.\n",
      "7 is not divisible by 3.\n",
      "8 is not divisible by 3.\n",
      "9 is divisible by 3.\n",
      "10 is not divisible by 3.\n",
      "11 is not divisible by 3.\n",
      "12 is divisible by 3.\n",
      "13 is not divisible by 3.\n",
      "14 is not divisible by 3.\n",
      "15 is divisible by 3.\n",
      "16 is not divisible by 3.\n",
      "17 is not divisible by 3.\n",
      "18 is divisible by 3.\n",
      "19 is not divisible by 3.\n",
      "20 is not divisible by 3.\n",
      "21 is divisible by 3.\n",
      "22 is not divisible by 3.\n",
      "23 is not divisible by 3.\n",
      "24 is divisible by 3.\n",
      "25 is not divisible by 3.\n"
     ]
    }
   ],
   "source": [
    "list2=[1,2,3,4,5,6,7,8,9,10,11,12,13,14,15,16,17,18,19,20,21,22,23,24,25]\n",
    "for i in list2:\n",
    "    if(i%3==0):\n",
    "        print(i, \"is divisible by 3.\")\n",
    "    else:\n",
    "        print(i, \"is not divisible by 3.\")    "
   ]
  },
  {
   "cell_type": "markdown",
   "id": "de84074c",
   "metadata": {},
   "source": [
    "Q.7: What do you understand by mutable and immutable datatypes? Give examples of both showing this property.\n",
    "\n",
    "By mutable datatype, we mean that it can be modified and updated. For example: List, Dictionary values\n",
    "\n",
    "By Immutable datatype, we mean that once the variable is created with immutable datatype then its value cannot be modified or changed. For example: Tuples"
   ]
  },
  {
   "cell_type": "code",
   "execution_count": 20,
   "id": "29fe0811",
   "metadata": {},
   "outputs": [
    {
     "name": "stdout",
     "output_type": "stream",
     "text": [
      "[6, 2, 3, 5]\n"
     ]
    }
   ],
   "source": [
    "num=[1,2,3,5]\n",
    "num[0]=6\n",
    "print(num)\n",
    "numtup=(1,2,3,4)\n",
    "numtup[3]=9 #Errorrr"
   ]
  }
 ],
 "metadata": {
  "kernelspec": {
   "display_name": "Python 3 (ipykernel)",
   "language": "python",
   "name": "python3"
  },
  "language_info": {
   "codemirror_mode": {
    "name": "ipython",
    "version": 3
   },
   "file_extension": ".py",
   "mimetype": "text/x-python",
   "name": "python",
   "nbconvert_exporter": "python",
   "pygments_lexer": "ipython3",
   "version": "3.9.13"
  }
 },
 "nbformat": 4,
 "nbformat_minor": 5
}
